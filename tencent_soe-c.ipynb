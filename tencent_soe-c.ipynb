{
 "cells": [
  {
   "cell_type": "code",
   "execution_count": null,
   "metadata": {},
   "outputs": [],
   "source": [
    "# 腾讯智聆口语评测功能测试代码\n",
    "from tencentcloud.common import credential\n",
    "from tencentcloud.common.profile.client_profile import ClientProfile\n",
    "from tencentcloud.common.profile.http_profile import HttpProfile\n",
    "from tencentcloud.common.exception.tencent_cloud_sdk_exception import TencentCloudSDKException \n",
    "from tencentcloud.soe.v20180724 import soe_client, models\n",
    "import sys, base64, uuid"
   ]
  },
  {
   "cell_type": "code",
   "execution_count": null,
   "metadata": {},
   "outputs": [],
   "source": [
    "# 使用讯飞的demo音频和文本测试:P\n",
    "f = open('./assets/cn_syll.wav', 'rb')\n",
    "data = base64.b64encode(f.read())\n",
    "f.close()"
   ]
  },
  {
   "cell_type": "code",
   "execution_count": null,
   "metadata": {},
   "outputs": [],
   "source": [
    "try: \n",
    "    # 替换下面的SecretId和SecretKey\n",
    "    # 需要购买套餐再测试，不然各种错误提示 https://buy.cloud.tencent.com/soe\n",
    "    cred = credential.Credential(\"Your Tencent SecretId\", \"Your Tencent SecretKey\") \n",
    "    httpProfile = HttpProfile()\n",
    "    httpProfile.endpoint = \"soe.tencentcloudapi.com\"\n",
    "\n",
    "    clientProfile = ClientProfile()\n",
    "    clientProfile.httpProfile = httpProfile\n",
    "    client = soe_client.SoeClient(cred, \"\", clientProfile) \n",
    "\n",
    "    req = models.TransmitOralProcessWithInitRequest()\n",
    "    #  mp3格式文件：声道、比特率、采样率相符的情况下，请设置VoiceFileType值为3。  \n",
    "    params = '''\n",
    "    {\n",
    "    \"SeqId\":1,\n",
    "    \"IsEnd\":1,\n",
    "    \"VoiceFileType\":2,\n",
    "    \"VoiceEncodeType\":1,\n",
    "    \"UserVoiceData\": \"'''+str(data.decode('utf-8'))+'''\",\n",
    "    \"SessionId\":\"'''+str(uuid.uuid1())+'''\",\n",
    "    \"RefText\":\"果泛宽淌丢\",\n",
    "    \"WorkMode\":0,\n",
    "    \"EvalMode\":2,\n",
    "    \"ServerType\":1,\n",
    "    \"ScoreCoeff\":1.5\n",
    "    }\n",
    "    '''\n",
    "    req.from_json_string(params)\n",
    "\n",
    "    resp = client.TransmitOralProcessWithInit(req) \n",
    "    print(resp.to_json_string()) \n",
    "\n",
    "except TencentCloudSDKException as err: \n",
    "    print(err) "
   ]
  },
  {
   "cell_type": "code",
   "execution_count": null,
   "metadata": {},
   "outputs": [],
   "source": []
  }
 ],
 "metadata": {
  "kernelspec": {
   "display_name": "Python 3",
   "language": "python",
   "name": "python3"
  },
  "language_info": {
   "codemirror_mode": {
    "name": "ipython",
    "version": 3
   },
   "file_extension": ".py",
   "mimetype": "text/x-python",
   "name": "python",
   "nbconvert_exporter": "python",
   "pygments_lexer": "ipython3",
   "version": "3.7.3"
  }
 },
 "nbformat": 4,
 "nbformat_minor": 2
}
