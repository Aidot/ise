{
 "cells": [
  {
   "cell_type": "code",
   "execution_count": null,
   "metadata": {},
   "outputs": [],
   "source": [
    "#!/usr/bin/python\n",
    "# -*- coding: UTF-8 -*-\n",
    "import base64\n",
    "import hashlib\n",
    "import json\n",
    "import time\n",
    "\n",
    "import requests"
   ]
  },
  {
   "cell_type": "code",
   "execution_count": null,
   "metadata": {},
   "outputs": [],
   "source": [
    "def main():\n",
    "    x_appid = '修改为你的讯飞APP ID'\n",
    "    api_key = '修改为你的讯飞 API KEY'\n",
    "    curTime = str(int(time.time()))\n",
    "    url = 'http://api.xfyun.cn/v1/service/v1/ise'\n",
    "#     试题格式样例：https://www.xfyun.cn/doc/voiceservice/ise/ise_protocol.html\n",
    "    text = '''\n",
    "<customizer: interphonic>\n",
    "    果\n",
    "    guo3\n",
    "    泛\n",
    "    fan4\n",
    "    宽\n",
    "    kuan1\n",
    "    淌\n",
    "    tang3\n",
    "    丢\n",
    "    diu1\n",
    "    '''\n",
    "    AUDIO_PATH = r'./assets/cn_syll.wav'\n",
    "    with open(AUDIO_PATH, 'rb') as f:\n",
    "        file_content = f.read()\n",
    "    base64_audio = base64.b64encode(file_content)\n",
    "    body = {'audio': base64_audio, 'text': text}\n",
    "    param = json.dumps({\"aue\": \"raw\", \"result_level\": \"entirety\", \"language\": \"zh_cn\", \"category\": \"read_syllable\"})\n",
    "    paramBase64 = str(base64.b64encode(param.encode('utf-8')), 'utf-8')\n",
    "    m2 = hashlib.md5()\n",
    "    m2.update((api_key + curTime + paramBase64).encode('utf-8'))\n",
    "    checkSum = m2.hexdigest()\n",
    "    x_header = {\n",
    "                'X-Appid': x_appid,\n",
    "                'X-CurTime': curTime,\n",
    "                'X-Param': paramBase64,\n",
    "                'X-CheckSum': checkSum,\n",
    "                'Content-Type': 'application/x-www-form-urlencoded; charset=utf-8',\n",
    "                }\n",
    "    req = requests.post(url, data=body, headers=x_header)\n",
    "    result = req.content.decode('utf-8')\n",
    "    print(result)\n",
    "    return"
   ]
  },
  {
   "cell_type": "code",
   "execution_count": null,
   "metadata": {
    "scrolled": true
   },
   "outputs": [],
   "source": [
    "# 执行\n",
    "if __name__ == '__main__':\n",
    "    main()"
   ]
  },
  {
   "cell_type": "code",
   "execution_count": null,
   "metadata": {},
   "outputs": [],
   "source": []
  }
 ],
 "metadata": {
  "kernelspec": {
   "display_name": "Python 3",
   "language": "python",
   "name": "python3"
  },
  "language_info": {
   "codemirror_mode": {
    "name": "ipython",
    "version": 3
   },
   "file_extension": ".py",
   "mimetype": "text/x-python",
   "name": "python",
   "nbconvert_exporter": "python",
   "pygments_lexer": "ipython3",
   "version": "3.7.3"
  }
 },
 "nbformat": 4,
 "nbformat_minor": 2
}
